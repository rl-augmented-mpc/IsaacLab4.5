version https://git-lfs.github.com/spec/v1
oid sha256:a744d535dcac7a6a37a57f769e0c0e338982796d0986a75f1a5e4e2d0f669420
size 5060990
