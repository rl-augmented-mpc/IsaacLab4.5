version https://git-lfs.github.com/spec/v1
oid sha256:24e37446088b801dacc89d18aad1a1fee151040526accc421fe199cf3d4aa064
size 6991666
