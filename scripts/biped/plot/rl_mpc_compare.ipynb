version https://git-lfs.github.com/spec/v1
oid sha256:3a5e80783f1d1d9648bc8f62a3002f594c237eb0d3730d009f99573a6ee49c60
size 6864144
